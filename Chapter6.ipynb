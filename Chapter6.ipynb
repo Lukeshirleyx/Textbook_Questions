{
 "nbformat": 4,
 "nbformat_minor": 2,
 "metadata": {
  "language_info": {
   "name": "python",
   "codemirror_mode": {
    "name": "ipython",
    "version": 3
   },
   "version": "3.7.3-final"
  },
  "orig_nbformat": 2,
  "file_extension": ".py",
  "mimetype": "text/x-python",
  "name": "python",
  "npconvert_exporter": "python",
  "pygments_lexer": "ipython3",
  "version": 3,
  "kernelspec": {
   "name": "python37364bitbaseconda5994b4e167854476be8aec73de17ebc4",
   "display_name": "Python 3.7.3 64-bit ('base': conda)"
  }
 },
 "cells": [
  {
   "cell_type": "code",
   "execution_count": 4,
   "metadata": {},
   "outputs": [
    {
     "name": "stdout",
     "output_type": "stream",
     "text": "27\n"
    }
   ],
   "source": [
    "# 6.2 - 1\n",
    "\n",
    "def cube(x):\n",
    "    # prints cube of number\n",
    "    cube = x ** 3\n",
    "    \n",
    "    return cube\n",
    "\n",
    "print(cube(3))"
   ]
  },
  {
   "cell_type": "code",
   "execution_count": 7,
   "metadata": {},
   "outputs": [
    {
     "name": "stdout",
     "output_type": "stream",
     "text": "Hello World!\n"
    }
   ],
   "source": [
    "# 6.2 - 2\n",
    "\n",
    "def greet(name):\n",
    "    # Prints Hello <name>!\n",
    "    string = \"Hello \" + name + \"!\"\n",
    "\n",
    "    return string\n",
    "\n",
    "print(greet(\"World\"))\n"
   ]
  },
  {
   "cell_type": "code",
   "execution_count": 15,
   "metadata": {},
   "outputs": [
    {
     "name": "stdout",
     "output_type": "stream",
     "text": "37 degrees C = 98.60 degrees F\n"
    }
   ],
   "source": [
    "# 6.3 Challenge\n",
    "\n",
    "def convert_cel_to_far():\n",
    "    # convert celcius to farenhieght\n",
    "\n",
    "    prompt = input(\"Enter a temperature in degrees C:\")\n",
    "\n",
    "    C = float(prompt)\n",
    "\n",
    "    F = C * 9/5 + 32\n",
    "    print(f\"{prompt} degrees C = {F:.2f} degrees F\")\n",
    "\n",
    "convert_cel_to_far()\n"
   ]
  },
  {
   "cell_type": "code",
   "execution_count": 14,
   "metadata": {},
   "outputs": [
    {
     "name": "stdout",
     "output_type": "stream",
     "text": "72 degrees F = 22.22 degrees C\n"
    }
   ],
   "source": [
    "# 6.3 Challenge - part 2\n",
    "\n",
    "def convert_far_to_cel():\n",
    "    # convert celcius to farenhieght\n",
    "\n",
    "    prompt = input(\"Enter a temperature in degrees F:\")\n",
    "\n",
    "    F = float(prompt)\n",
    "\n",
    "    C = (F - 32) * 5/9\n",
    "    print(f\"{prompt} degrees F = {C:.2f} degrees C\")\n",
    "\n",
    "convert_far_to_cel()"
   ]
  },
  {
   "cell_type": "code",
   "execution_count": 5,
   "metadata": {},
   "outputs": [
    {
     "name": "stdout",
     "output_type": "stream",
     "text": "2\n3\n4\n5\n6\n7\n8\n9\n10\n"
    }
   ],
   "source": [
    "# 6.4 - 1\n",
    "\n",
    "for i in range(2, 11):\n",
    "    print(i)\n",
    "\n"
   ]
  },
  {
   "cell_type": "code",
   "execution_count": 7,
   "metadata": {},
   "outputs": [
    {
     "name": "stdout",
     "output_type": "stream",
     "text": "2\n3\n4\n5\n6\n7\n8\n9\n10\n"
    }
   ],
   "source": [
    "# 6.4 - 2 \n",
    "\n",
    "num = 1\n",
    "\n",
    "while num < 10:\n",
    "    num = num + 1\n",
    "    print(num)\n"
   ]
  },
  {
   "cell_type": "code",
   "execution_count": 12,
   "metadata": {},
   "outputs": [
    {
     "name": "stdout",
     "output_type": "stream",
     "text": "4\n8\n16\n"
    }
   ],
   "source": [
    "# 6.4 - 3\n",
    "\n",
    "def doubles():\n",
    "    prompt = int(input(\"Enter a number:\"))\n",
    "\n",
    "    for i in range(3):\n",
    "        prompt = prompt * 2\n",
    "        print(prompt)\n",
    "\n",
    "doubles()"
   ]
  },
  {
   "cell_type": "code",
   "execution_count": null,
   "metadata": {},
   "outputs": [],
   "source": []
  },
  {
   "cell_type": "code",
   "execution_count": null,
   "metadata": {},
   "outputs": [],
   "source": []
  },
  {
   "cell_type": "code",
   "execution_count": null,
   "metadata": {},
   "outputs": [],
   "source": []
  },
  {
   "cell_type": "code",
   "execution_count": null,
   "metadata": {},
   "outputs": [],
   "source": []
  }
 ]
}