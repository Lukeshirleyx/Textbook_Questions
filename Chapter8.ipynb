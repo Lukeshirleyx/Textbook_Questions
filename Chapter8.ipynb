{
 "nbformat": 4,
 "nbformat_minor": 2,
 "metadata": {
  "language_info": {
   "name": "python",
   "codemirror_mode": {
    "name": "ipython",
    "version": 3
   },
   "version": "3.7.3-final"
  },
  "orig_nbformat": 2,
  "file_extension": ".py",
  "mimetype": "text/x-python",
  "name": "python",
  "npconvert_exporter": "python",
  "pygments_lexer": "ipython3",
  "version": 3,
  "kernelspec": {
   "name": "python37364bitlukesvirtualenv004faf5d71dd4145ad76f3cd1cae3184",
   "display_name": "Python 3.7.3 64-bit ('lukes': virtualenv)"
  }
 },
 "cells": [
  {
   "cell_type": "code",
   "execution_count": 4,
   "metadata": {},
   "outputs": [
    {
     "data": {
      "text/plain": "False"
     },
     "execution_count": 4,
     "metadata": {},
     "output_type": "execute_result"
    }
   ],
   "source": [
    "# 8.1 - 1\n",
    "\n",
    "1 <= 1 # true\n",
    "1 != 1 # false\n",
    "1 != 2 # true\n",
    "\"good\" != \"bad\" # true\n",
    "\"good\" != \"good\" # false\n",
    "123 == \"123\" # false\n"
   ]
  },
  {
   "cell_type": "code",
   "execution_count": 8,
   "metadata": {},
   "outputs": [
    {
     "data": {
      "text/plain": "True"
     },
     "execution_count": 8,
     "metadata": {},
     "output_type": "execute_result"
    }
   ],
   "source": [
    "# 8.1 - 2\n",
    "\n",
    "3 != 4\n",
    "10 > 5\n",
    "\"jack\" < \"jill\"\n",
    "42 != '42'"
   ]
  },
  {
   "cell_type": "code",
   "execution_count": 12,
   "metadata": {},
   "outputs": [
    {
     "data": {
      "text/plain": "False"
     },
     "execution_count": 12,
     "metadata": {},
     "output_type": "execute_result"
    }
   ],
   "source": [
    "# 8.2 - 3\n",
    "\n",
    "(1 <= 1) and (1 != 1) # false\n",
    "not (1 != 2) # false\n",
    "(\"good\" != \"bad\") or False # true\n",
    "(\"good\" != \"Good\") and not (1 == 1) # false"
   ]
  },
  {
   "cell_type": "code",
   "execution_count": 19,
   "metadata": {},
   "outputs": [
    {
     "data": {
      "text/plain": "True"
     },
     "execution_count": 19,
     "metadata": {},
     "output_type": "execute_result"
    }
   ],
   "source": [
    "# 8.2 - 2\n",
    "\n",
    "False == (not True)\n",
    "(True and False) == (True and False)\n",
    "not (True and \"A\" == \"B\")\n",
    "(\"B\" and not \"A\") != \"B\""
   ]
  },
  {
   "cell_type": "code",
   "execution_count": 26,
   "metadata": {},
   "outputs": [
    {
     "name": "stdout",
     "output_type": "stream",
     "text": "Length of word is greater than 5 characters.\n"
    }
   ],
   "source": [
    "# 8.3 - 1\n",
    "\n",
    "prompt = input(\"Enter a word: \")\n",
    "\n",
    "if len(prompt) > 5:\n",
    "    print(\"Length of word is greater than 5 characters.\")\n",
    "elif len(prompt) == 5:\n",
    "    print(\"Length of word is 5 characters.\")\n",
    "else:\n",
    "    print(\"Length of word is less that five characters.\")\n",
    "\n",
    "\n"
   ]
  },
  {
   "cell_type": "code",
   "execution_count": 40,
   "metadata": {},
   "outputs": [
    {
     "name": "stdout",
     "output_type": "stream",
     "text": "1 is a factor of 12\n2 is a factor of 12\n3 is a factor of 12\n4 is a factor of 12\n6 is a factor of 12\n12 is a factor of 12\n"
    }
   ],
   "source": [
    "# 8.4 Challenge\n",
    "\n",
    "prompt = input(\"Enter a positive integer: \")\n",
    "\n",
    "for i in range(1, int(prompt)+1):\n",
    "    if int(prompt) % i == 0:\n",
    "        print(f\"{i} is a factor of {prompt}\") \n"
   ]
  },
  {
   "cell_type": "code",
   "execution_count": 44,
   "metadata": {},
   "outputs": [],
   "source": [
    "# 8.5 - 1\n",
    "\n",
    "prompt = input(\"Enter the magic letter: \")\n",
    "\n",
    "while True:\n",
    "    if prompt.lower() == \"q\":\n",
    "        break\n",
    "\n",
    "\n"
   ]
  },
  {
   "cell_type": "code",
   "execution_count": 47,
   "metadata": {},
   "outputs": [
    {
     "name": "stdout",
     "output_type": "stream",
     "text": "3\n6\n9\n12\n15\n18\n21\n24\n27\n30\n33\n36\n39\n42\n45\n48\n"
    }
   ],
   "source": [
    "# 8.5 - 2\n",
    "\n",
    "for i in range(1, 51):\n",
    "    if i % 3 == 0:\n",
    "        print(i)\n",
    "    else:\n",
    "        continue"
   ]
  },
  {
   "cell_type": "code",
   "execution_count": 5,
   "metadata": {},
   "outputs": [
    {
     "name": "stdout",
     "output_type": "stream",
     "text": "Warning! input not an integer\nWarning! input not an integer\nWarning! input not an integer\nWarning! input not an integer\nWarning! input not an integer\n5\n"
    }
   ],
   "source": [
    "# 8.6 - 1\n",
    "\n",
    "while True:\n",
    "    try: \n",
    "        num = int(input(\"Enter an Integer: \"))\n",
    "        print(num)\n",
    "        break\n",
    "    except ValueError:\n",
    "        print(\"Warning! input not an integer\")\n",
    "\n"
   ]
  },
  {
   "cell_type": "code",
   "execution_count": 9,
   "metadata": {},
   "outputs": [
    {
     "name": "stdout",
     "output_type": "stream",
     "text": "l\n"
    }
   ],
   "source": [
    "# 8.6 - 2\n",
    "\n",
    "try:\n",
    "    num = int(input(\"Enter integer: \"))\n",
    "    word = input(\"Enter a string: \")\n",
    "    print(word[num])\n",
    "except ValueError:\n",
    "    print(\"Warning! not an integer\")\n",
    "except IndexError:\n",
    "    print(\"Index is out of bounds\")\n"
   ]
  },
  {
   "cell_type": "code",
   "execution_count": 17,
   "metadata": {},
   "outputs": [
    {
     "name": "stdout",
     "output_type": "stream",
     "text": "3\n"
    }
   ],
   "source": [
    "# 8.7 - 1\n",
    "import random\n",
    "\n",
    "def roll():\n",
    "    print(random.randint(1,6))\n",
    "    \n",
    "roll()\n",
    "\n"
   ]
  },
  {
   "cell_type": "code",
   "execution_count": 26,
   "metadata": {},
   "outputs": [
    {
     "name": "stdout",
     "output_type": "stream",
     "text": "3.5125\n"
    }
   ],
   "source": [
    "# 8.7 - 2\n",
    "avg = 0\n",
    "\n",
    "for i in range(10_000):\n",
    "    fairDie = random.randint(1,6)\n",
    "    avg += fairDie \n",
    "\n",
    "print(avg/10_000)\n"
   ]
  },
  {
   "cell_type": "code",
   "execution_count": 35,
   "metadata": {},
   "outputs": [
    {
     "name": "stdout",
     "output_type": "stream",
     "text": "The average result of 10000 rolls is 3.4922\n"
    }
   ],
   "source": [
    "# 8.7 - 2\n",
    "\n",
    "def roll():\n",
    "    \"\"\"Return random integer between 1 and 6\"\"\"\n",
    "    return random.randint(1, 6)\n",
    "\n",
    "num_rolls = 10_000\n",
    "total = 0\n",
    "\n",
    "for trial in range(num_rolls):\n",
    "    total = total + roll()\n",
    "\n",
    "avg_roll = total / num_rolls\n",
    "\n",
    "print(f\"The average result of {num_rolls} rolls is {avg_roll}\")"
   ]
  },
  {
   "cell_type": "code",
   "execution_count": 39,
   "metadata": {},
   "outputs": [
    {
     "name": "stdout",
     "output_type": "stream",
     "text": "The average number of flips per trial is 2.9869.\n"
    }
   ],
   "source": [
    "# 8.8 - Challenge\n",
    "\n",
    "import random\n",
    "\n",
    "\n",
    "def coin_flip():\n",
    "    \"\"\"Randomly return 'heads' or 'tails'.\"\"\"\n",
    "    if random.randint(0, 1) == 0:\n",
    "        return \"heads\"\n",
    "    else:\n",
    "        return \"tails\"\n",
    "\n",
    "flips = 0\n",
    "num_trials = 10_000\n",
    "\n",
    "for trial in range(num_trials):\n",
    "    if coin_flip() == \"heads\":\n",
    "        # Increment the number of flips by 1\n",
    "        flips = flips + 1\n",
    "        while coin_flip() == \"heads\":\n",
    "            # Keep incrementing the total number of flips\n",
    "            # until \"tails\" is returned by coin_flip()\n",
    "            flips = flips + 1\n",
    "        # Once coin_flip() return \"tails\", the loop will exit,\n",
    "        # but we need to add one more to flips to track the\n",
    "        # last flip that generated \"tails\n",
    "        flips = flips + 1\n",
    "    else:\n",
    "        # coin_flip() returned \"tails\" on the first flip.\n",
    "        # Increment the number of flips by 1\n",
    "        flips = flips + 1\n",
    "        while coin_flip() == \"tails\":\n",
    "            # Keep incrementing the total number of flips\n",
    "            # until \"heads\" is returned by coin_flip()\n",
    "            flips = flips + 1\n",
    "        # Once coin_flip() returns \"heads\", the loop will exit,\n",
    "        # but we need to add one more to flips to track the\n",
    "        # last flip that generated \"heads\"\n",
    "        flips = flips + 1\n",
    "\n",
    "avg_flips_per_trial = flips / num_trials\n",
    "print(f\"The average number of flips per trial is {avg_flips_per_trial}.\")"
   ]
  },
  {
   "cell_type": "code",
   "execution_count": null,
   "metadata": {},
   "outputs": [],
   "source": []
  },
  {
   "cell_type": "code",
   "execution_count": null,
   "metadata": {},
   "outputs": [],
   "source": []
  },
  {
   "cell_type": "code",
   "execution_count": null,
   "metadata": {},
   "outputs": [],
   "source": []
  },
  {
   "cell_type": "code",
   "execution_count": null,
   "metadata": {},
   "outputs": [],
   "source": []
  },
  {
   "cell_type": "code",
   "execution_count": null,
   "metadata": {},
   "outputs": [],
   "source": []
  },
  {
   "cell_type": "code",
   "execution_count": null,
   "metadata": {},
   "outputs": [],
   "source": []
  },
  {
   "cell_type": "code",
   "execution_count": null,
   "metadata": {},
   "outputs": [],
   "source": []
  },
  {
   "cell_type": "code",
   "execution_count": null,
   "metadata": {},
   "outputs": [],
   "source": []
  }
 ]
}