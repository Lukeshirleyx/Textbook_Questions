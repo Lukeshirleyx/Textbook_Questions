{
 "nbformat": 4,
 "nbformat_minor": 2,
 "metadata": {
  "language_info": {
   "name": "python",
   "codemirror_mode": {
    "name": "ipython",
    "version": 3
   },
   "version": "3.7.3-final"
  },
  "orig_nbformat": 2,
  "file_extension": ".py",
  "mimetype": "text/x-python",
  "name": "python",
  "npconvert_exporter": "python",
  "pygments_lexer": "ipython3",
  "version": 3,
  "kernelspec": {
   "name": "python37364bitlukesvirtualenv004faf5d71dd4145ad76f3cd1cae3184",
   "display_name": "Python 3.7.3 64-bit ('lukes': virtualenv)"
  }
 },
 "cells": [
  {
   "cell_type": "code",
   "execution_count": 4,
   "metadata": {},
   "outputs": [
    {
     "data": {
      "text/plain": "False"
     },
     "execution_count": 4,
     "metadata": {},
     "output_type": "execute_result"
    }
   ],
   "source": [
    "# 8.1 - 1\n",
    "\n",
    "1 <= 1 # true\n",
    "1 != 1 # false\n",
    "1 != 2 # true\n",
    "\"good\" != \"bad\" # true\n",
    "\"good\" != \"good\" # false\n",
    "123 == \"123\" # false\n"
   ]
  },
  {
   "cell_type": "code",
   "execution_count": 8,
   "metadata": {},
   "outputs": [
    {
     "data": {
      "text/plain": "True"
     },
     "execution_count": 8,
     "metadata": {},
     "output_type": "execute_result"
    }
   ],
   "source": [
    "# 8.1 - 2\n",
    "\n",
    "3 != 4\n",
    "10 > 5\n",
    "\"jack\" < \"jill\"\n",
    "42 != '42'"
   ]
  },
  {
   "cell_type": "code",
   "execution_count": 12,
   "metadata": {},
   "outputs": [
    {
     "data": {
      "text/plain": "False"
     },
     "execution_count": 12,
     "metadata": {},
     "output_type": "execute_result"
    }
   ],
   "source": [
    "# 8.2 - 3\n",
    "\n",
    "(1 <= 1) and (1 != 1) # false\n",
    "not (1 != 2) # false\n",
    "(\"good\" != \"bad\") or False # true\n",
    "(\"good\" != \"Good\") and not (1 == 1) # false"
   ]
  },
  {
   "cell_type": "code",
   "execution_count": 19,
   "metadata": {},
   "outputs": [
    {
     "data": {
      "text/plain": "True"
     },
     "execution_count": 19,
     "metadata": {},
     "output_type": "execute_result"
    }
   ],
   "source": [
    "# 8.2 - 2\n",
    "\n",
    "False == (not True)\n",
    "(True and False) == (True and False)\n",
    "not (True and \"A\" == \"B\")\n",
    "(\"B\" and not \"A\") != \"B\""
   ]
  },
  {
   "cell_type": "code",
   "execution_count": 26,
   "metadata": {},
   "outputs": [
    {
     "name": "stdout",
     "output_type": "stream",
     "text": "Length of word is greater than 5 characters.\n"
    }
   ],
   "source": [
    "# 8.3 - 1\n",
    "\n",
    "prompt = input(\"Enter a word: \")\n",
    "\n",
    "if len(prompt) > 5:\n",
    "    print(\"Length of word is greater than 5 characters.\")\n",
    "elif len(prompt) == 5:\n",
    "    print(\"Length of word is 5 characters.\")\n",
    "else:\n",
    "    print(\"Length of word is less that five characters.\")\n",
    "\n",
    "\n"
   ]
  },
  {
   "cell_type": "code",
   "execution_count": 40,
   "metadata": {},
   "outputs": [
    {
     "name": "stdout",
     "output_type": "stream",
     "text": "1 is a factor of 12\n2 is a factor of 12\n3 is a factor of 12\n4 is a factor of 12\n6 is a factor of 12\n12 is a factor of 12\n"
    }
   ],
   "source": [
    "# 8.4 Challenge\n",
    "\n",
    "prompt = input(\"Enter a positive integer: \")\n",
    "\n",
    "for i in range(1, int(prompt)+1):\n",
    "    if int(prompt) % i == 0:\n",
    "        print(f\"{i} is a factor of {prompt}\") \n"
   ]
  },
  {
   "cell_type": "code",
   "execution_count": 44,
   "metadata": {},
   "outputs": [],
   "source": [
    "# 8.5 - 1\n",
    "\n",
    "prompt = input(\"Enter the magic letter: \")\n",
    "\n",
    "while True:\n",
    "    if prompt.lower() == \"q\":\n",
    "        break\n",
    "\n",
    "\n"
   ]
  },
  {
   "cell_type": "code",
   "execution_count": 47,
   "metadata": {},
   "outputs": [
    {
     "name": "stdout",
     "output_type": "stream",
     "text": "3\n6\n9\n12\n15\n18\n21\n24\n27\n30\n33\n36\n39\n42\n45\n48\n"
    }
   ],
   "source": [
    "# 8.5 - 2\n",
    "\n",
    "for i in range(1, 51):\n",
    "    if i % 3 == 0:\n",
    "        print(i)\n",
    "    else:\n",
    "        continue"
   ]
  },
  {
   "cell_type": "code",
   "execution_count": 5,
   "metadata": {},
   "outputs": [
    {
     "name": "stdout",
     "output_type": "stream",
     "text": "Warning! input not an integer\nWarning! input not an integer\nWarning! input not an integer\nWarning! input not an integer\nWarning! input not an integer\n5\n"
    }
   ],
   "source": [
    "# 8.6 - 1\n",
    "\n",
    "while True:\n",
    "    try: \n",
    "        num = int(input(\"Enter an Integer: \"))\n",
    "        print(num)\n",
    "        break\n",
    "    except ValueError:\n",
    "        print(\"Warning! input not an integer\")\n",
    "\n"
   ]
  },
  {
   "cell_type": "code",
   "execution_count": 9,
   "metadata": {},
   "outputs": [
    {
     "name": "stdout",
     "output_type": "stream",
     "text": "l\n"
    }
   ],
   "source": [
    "# 8.6 - 2\n",
    "\n",
    "try:\n",
    "    num = int(input(\"Enter integer: \"))\n",
    "    word = input(\"Enter a string: \")\n",
    "    print(word[num])\n",
    "except ValueError:\n",
    "    print(\"Warning! not an integer\")\n",
    "except IndexError:\n",
    "    print(\"Index is out of bounds\")\n"
   ]
  },
  {
   "cell_type": "code",
   "execution_count": null,
   "metadata": {},
   "outputs": [],
   "source": [
    "# 8.7 - 1\n",
    "\n",
    "\n"
   ]
  },
  {
   "cell_type": "code",
   "execution_count": null,
   "metadata": {},
   "outputs": [],
   "source": []
  },
  {
   "cell_type": "code",
   "execution_count": null,
   "metadata": {},
   "outputs": [],
   "source": []
  },
  {
   "cell_type": "code",
   "execution_count": null,
   "metadata": {},
   "outputs": [],
   "source": []
  }
 ]
}