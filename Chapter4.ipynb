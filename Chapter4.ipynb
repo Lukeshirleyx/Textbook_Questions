{
 "nbformat": 4,
 "nbformat_minor": 2,
 "metadata": {
  "language_info": {
   "name": "python",
   "codemirror_mode": {
    "name": "ipython",
    "version": 3
   },
   "version": "3.7.3-final"
  },
  "orig_nbformat": 2,
  "file_extension": ".py",
  "mimetype": "text/x-python",
  "name": "python",
  "npconvert_exporter": "python",
  "pygments_lexer": "ipython3",
  "version": 3,
  "kernelspec": {
   "name": "python37364bitbaseconda5994b4e167854476be8aec73de17ebc4",
   "display_name": "Python 3.7.3 64-bit ('base': conda)"
  }
 },
 "cells": [
  {
   "cell_type": "code",
   "execution_count": 4,
   "metadata": {},
   "outputs": [
    {
     "name": "stdout",
     "output_type": "stream",
     "text": "He said \"Hello, world\"\n"
    }
   ],
   "source": [
    "# 4.1 - 1\n",
    "\n",
    "print('He said \"Hello, world\"')"
   ]
  },
  {
   "cell_type": "code",
   "execution_count": 5,
   "metadata": {},
   "outputs": [
    {
     "name": "stdout",
     "output_type": "stream",
     "text": "There's the world\n"
    }
   ],
   "source": [
    "# 4.1 - 2\n",
    "\n",
    "print(\"There's the world\")"
   ]
  },
  {
   "cell_type": "code",
   "execution_count": 6,
   "metadata": {},
   "outputs": [
    {
     "name": "stdout",
     "output_type": "stream",
     "text": "This planet has - or rather had - a problem, which was\nthis: most of the people living on it were unhappy for pretty much\nof the time. Many solutions were suggested for this problem, but\nmost of these were largely concerned with the movements of small\ngreen pieces of paper, which is odd because on the whole it wasn't\nthe small green pieces of paper that were unhappy.\n"
    }
   ],
   "source": [
    "# 4.1 -3 \n",
    "\n",
    "paragraph = \"\"\"This planet has - or rather had - a problem, which was\n",
    "this: most of the people living on it were unhappy for pretty much\n",
    "of the time. Many solutions were suggested for this problem, but\n",
    "most of these were largely concerned with the movements of small\n",
    "green pieces of paper, which is odd because on the whole it wasn't\n",
    "the small green pieces of paper that were unhappy.\"\"\"\n",
    "\n",
    "print(paragraph)"
   ]
  },
  {
   "cell_type": "code",
   "execution_count": 8,
   "metadata": {},
   "outputs": [
    {
     "name": "stdout",
     "output_type": "stream",
     "text": "this string spans one line\n"
    }
   ],
   "source": [
    "# 4.1 - 4\n",
    "\n",
    "sentence = \"this string spans \\\n",
    "one line\"\n",
    "\n",
    "print(sentence)"
   ]
  },
  {
   "cell_type": "code",
   "execution_count": 9,
   "metadata": {},
   "outputs": [
    {
     "data": {
      "text/plain": "9"
     },
     "execution_count": 9,
     "metadata": {},
     "output_type": "execute_result"
    }
   ],
   "source": [
    "# 4.2 - 1\n",
    "\n",
    "string = \"apple pie\"\n",
    "\n",
    "len(string)"
   ]
  },
  {
   "cell_type": "code",
   "execution_count": 20,
   "metadata": {},
   "outputs": [
    {
     "name": "stdout",
     "output_type": "stream",
     "text": "Hi there!\n"
    }
   ],
   "source": [
    "# 4.2 - 2\n",
    "\n",
    "str1 = \"Hi\"\n",
    "str2 = \" there!\"\n",
    "str3 = str1 + str2\n",
    "\n",
    "print(str3)"
   ]
  },
  {
   "cell_type": "code",
   "execution_count": 19,
   "metadata": {},
   "outputs": [
    {
     "name": "stdout",
     "output_type": "stream",
     "text": "Hi there!\n"
    }
   ],
   "source": [
    "# 4.2 - 3\n",
    "\n",
    "str1 = \"Hi\"\n",
    "str2 = \"there!\"\n",
    "\n",
    "print(str1,str2)"
   ]
  },
  {
   "cell_type": "code",
   "execution_count": 21,
   "metadata": {},
   "outputs": [
    {
     "name": "stdout",
     "output_type": "stream",
     "text": "Hi there!\n"
    }
   ],
   "source": [
    "# 4.2 - 4\n",
    "\n",
    "str1 = \"Hi\"\n",
    "str2 = \"there!\"\n",
    "\n",
    "print(str1 + \" \" + str2)"
   ]
  },
  {
   "cell_type": "code",
   "execution_count": 23,
   "metadata": {},
   "outputs": [
    {
     "name": "stdout",
     "output_type": "stream",
     "text": "zing\n"
    }
   ],
   "source": [
    "# 4.2 - 5\n",
    "\n",
    "str1 = \"bazinga\"\n",
    "\n",
    "print(str1[2:-1])"
   ]
  },
  {
   "cell_type": "code",
   "execution_count": 13,
   "metadata": {},
   "outputs": [
    {
     "name": "stdout",
     "output_type": "stream",
     "text": "animals\nbadger\nhoney bee\nhoneybadger\n"
    }
   ],
   "source": [
    "# 4.3 - 1\n",
    "\n",
    "animal1 = \"Animals\"\n",
    "animal1.lower()\n",
    "animal1 = animal1.lower()\n",
    "print(animal1)\n",
    "\n",
    "animal2 = \"Badger\"\n",
    "animal2.lower()\n",
    "animal2 = animal2.lower()\n",
    "print(animal2)\n",
    "\n",
    "animal3 = \"Honey Bee\"\n",
    "animal3.lower()\n",
    "animal3 = animal3.lower()\n",
    "print(animal3)\n",
    "\n",
    "animal4 = \"Honeybadger\"\n",
    "animal4.lower()\n",
    "animal4 = animal4.lower()\n",
    "print(animal4)"
   ]
  },
  {
   "cell_type": "code",
   "execution_count": 14,
   "metadata": {},
   "outputs": [
    {
     "name": "stdout",
     "output_type": "stream",
     "text": "ANIMALS\nBADGER\nHONEY BEE\nHONEYBADGER\n"
    }
   ],
   "source": [
    "# 4.3 - 2 \n",
    "\n",
    "animal1 = \"Animals\"\n",
    "animal1.upper()\n",
    "animal1 = animal1.upper()\n",
    "print(animal1)\n",
    "\n",
    "animal2 = \"Badger\"\n",
    "animal2.upper()\n",
    "animal2 = animal2.upper()\n",
    "print(animal2)\n",
    "\n",
    "animal3 = \"Honey Bee\"\n",
    "animal3.upper()\n",
    "animal3 = animal3.upper()\n",
    "print(animal3)\n",
    "\n",
    "animal4 = \"Honeybadger\"\n",
    "animal4.upper()\n",
    "animal4 = animal4.upper()\n",
    "print(animal4)"
   ]
  },
  {
   "cell_type": "code",
   "execution_count": 18,
   "metadata": {},
   "outputs": [
    {
     "name": "stdout",
     "output_type": "stream",
     "text": "Filet Mignon\nBrisket\nCheeseburger\n"
    }
   ],
   "source": [
    "# 4.3 - 3\n",
    "\n",
    "string1 = \"   Filet Mignon\"\n",
    "string1 = string1.lstrip()\n",
    "print(string1)\n",
    "\n",
    "string2 = \"Brisket    \"\n",
    "string2 = string2.rstrip()\n",
    "print(string2)\n",
    "\n",
    "string3 = \"   Cheeseburger   \"\n",
    "string3 = string3.strip()\n",
    "print(string3)"
   ]
  },
  {
   "cell_type": "code",
   "execution_count": 22,
   "metadata": {},
   "outputs": [
    {
     "name": "stdout",
     "output_type": "stream",
     "text": "False\nTrue\nFalse\nFalse\n"
    }
   ],
   "source": [
    "# 4.3 - 4\n",
    "\n",
    "string1 = \"Becomes\"\n",
    "print(string1.startswith(\"be\"))\n",
    "string2 = \"becomes\"\n",
    "print(string2.startswith(\"be\"))\n",
    "string3 = \"BEAR\"\n",
    "print(string3.startswith(\"be\"))\n",
    "string4 = \" bEautiful\"\n",
    "print(string4.startswith(\"be\"))"
   ]
  },
  {
   "cell_type": "code",
   "execution_count": 25,
   "metadata": {},
   "outputs": [
    {
     "name": "stdout",
     "output_type": "stream",
     "text": "True\nTrue\nTrue\nTrue\n"
    }
   ],
   "source": [
    "# 4.3 - 5\n",
    "\n",
    "string1 = \"Becomes\"\n",
    "string1 = string1.lower()\n",
    "print(string1.startswith(\"be\"))\n",
    "\n",
    "string2 = \"becomes\"\n",
    "print(string2.startswith(\"be\"))\n",
    "\n",
    "string3 = \"BEAR\"\n",
    "string3 = string3.lower()\n",
    "print(string3.startswith(\"be\"))\n",
    "\n",
    "string4 = \" bEautiful\"\n",
    "string4 = string4.lower()\n",
    "string4 = string4.lstrip()\n",
    "print(string4.startswith(\"be\"))"
   ]
  },
  {
   "cell_type": "code",
   "execution_count": 28,
   "metadata": {},
   "outputs": [
    {
     "name": "stdout",
     "output_type": "stream",
     "text": "You said: Not much, How about yourself?\n"
    }
   ],
   "source": [
    "# 4.4 - 1 \n",
    "\n",
    "prompt = \"Hey, what's up? \"\n",
    "user_input = input(prompt)\n",
    "print(\"You said:\", user_input)\n"
   ]
  },
  {
   "cell_type": "code",
   "execution_count": 30,
   "metadata": {},
   "outputs": [
    {
     "name": "stdout",
     "output_type": "stream",
     "text": "You said: not much, how about yourself?\n"
    }
   ],
   "source": [
    "# 4.4 - 2\n",
    "\n",
    "prompt = \"Hey, what's up? \"\n",
    "user_input = input(prompt)\n",
    "print(\"You said:\", user_input.lower())\n"
   ]
  },
  {
   "cell_type": "code",
   "execution_count": 32,
   "metadata": {},
   "outputs": [
    {
     "name": "stdout",
     "output_type": "stream",
     "text": "You said: 22\n"
    }
   ],
   "source": [
    "# 4.4 - 3\n",
    "\n",
    "prompt = \"Hey, what's up? \"\n",
    "user_input = input(prompt)\n",
    "print(\"You said:\", len(user_input))\n"
   ]
  },
  {
   "cell_type": "code",
   "execution_count": 34,
   "metadata": {},
   "outputs": [
    {
     "name": "stdout",
     "output_type": "stream",
     "text": "N\n"
    }
   ],
   "source": [
    "# 4.5 - 1\n",
    "\n",
    "prompt = \"Tell me your password:\"\n",
    "user_input = input(prompt)\n",
    "user_input = user_input[:1]\n",
    "print(user_input.upper())\n"
   ]
  },
  {
   "cell_type": "code",
   "execution_count": null,
   "metadata": {},
   "outputs": [],
   "source": []
  }
 ]
}