{
 "nbformat": 4,
 "nbformat_minor": 2,
 "metadata": {
  "language_info": {
   "name": "python",
   "codemirror_mode": {
    "name": "ipython",
    "version": 3
   },
   "version": "3.7.4-final"
  },
  "orig_nbformat": 2,
  "file_extension": ".py",
  "mimetype": "text/x-python",
  "name": "python",
  "npconvert_exporter": "python",
  "pygments_lexer": "ipython3",
  "version": 3,
  "kernelspec": {
   "name": "python37464bitlukesvirtualenvf2ad2ee649884578ac859ce96bdccc23",
   "display_name": "Python 3.7.4 64-bit ('lukes': virtualenv)"
  }
 },
 "cells": [
  {
   "cell_type": "code",
   "execution_count": 2,
   "metadata": {},
   "outputs": [
    {
     "data": {
      "text/plain": "tuple"
     },
     "execution_count": 2,
     "metadata": {},
     "output_type": "execute_result"
    }
   ],
   "source": [
    "# 9.1 - 1 \n",
    "\n",
    "cardinal_numbers = ('first', 'second', 'third')\n",
    "\n",
    "type(cardinal_numbers)"
   ]
  },
  {
   "cell_type": "code",
   "execution_count": 3,
   "metadata": {},
   "outputs": [
    {
     "name": "stdout",
     "output_type": "stream",
     "text": "second\n"
    }
   ],
   "source": [
    "# 9.1 - 2 \n",
    "\n",
    "print(cardinal_numbers[1])\n",
    "\n"
   ]
  },
  {
   "cell_type": "code",
   "execution_count": 4,
   "metadata": {},
   "outputs": [
    {
     "name": "stdout",
     "output_type": "stream",
     "text": "first\nsecond\nthird\n"
    }
   ],
   "source": [
    "# 9.1 - 3\n",
    "\n",
    "position1, position2, position3 = cardinal_numbers\n",
    "\n",
    "print(position1)\n",
    "print(position2)\n",
    "print(position3)\n"
   ]
  },
  {
   "cell_type": "code",
   "execution_count": 6,
   "metadata": {},
   "outputs": [
    {
     "data": {
      "text/plain": "tuple"
     },
     "execution_count": 6,
     "metadata": {},
     "output_type": "execute_result"
    }
   ],
   "source": [
    "# 9.1 - 4\n",
    "\n",
    "my_name = tuple(\"Luke\")\n",
    "\n",
    "type(my_name)\n"
   ]
  },
  {
   "cell_type": "code",
   "execution_count": 9,
   "metadata": {},
   "outputs": [
    {
     "name": "stdout",
     "output_type": "stream",
     "text": "False\n"
    }
   ],
   "source": [
    "# 9.1 - 5\n",
    "\n",
    "print('x' in my_name)\n",
    "\n"
   ]
  },
  {
   "cell_type": "code",
   "execution_count": 8,
   "metadata": {},
   "outputs": [
    {
     "name": "stdout",
     "output_type": "stream",
     "text": "('u', 'k', 'e')\n"
    }
   ],
   "source": [
    "# 9.1 - 6\n",
    "\n",
    "new = my_name[1:]\n",
    "\n",
    "print(new)\n"
   ]
  },
  {
   "cell_type": "code",
   "execution_count": 10,
   "metadata": {},
   "outputs": [
    {
     "name": "stdout",
     "output_type": "stream",
     "text": "['rice', 'beans']\n"
    }
   ],
   "source": [
    "# 9.2 - 1\n",
    "\n",
    "food = [\"rice\", \"beans\"]\n",
    "\n",
    "print(food)\n"
   ]
  },
  {
   "cell_type": "code",
   "execution_count": 11,
   "metadata": {},
   "outputs": [
    {
     "name": "stdout",
     "output_type": "stream",
     "text": "['rice', 'beans', 'broccoli']\n"
    }
   ],
   "source": [
    "# 9.2 - 2\n",
    "\n",
    "food.append(\"broccoli\")\n",
    "\n",
    "print(food)\n"
   ]
  },
  {
   "cell_type": "code",
   "execution_count": 14,
   "metadata": {},
   "outputs": [
    {
     "name": "stdout",
     "output_type": "stream",
     "text": "['rice', 'beans', 'broccoli', 'bread', 'pizza']\n"
    }
   ],
   "source": [
    "# 9.2 - 3\n",
    "\n",
    "food.extend([\"bread\", \"pizza\"])\n",
    "\n",
    "print(food)\n"
   ]
  },
  {
   "cell_type": "code",
   "execution_count": 16,
   "metadata": {},
   "outputs": [
    {
     "name": "stdout",
     "output_type": "stream",
     "text": "['rice', 'beans']\n"
    }
   ],
   "source": [
    "# 9.2 - 4\n",
    "\n",
    "print(food[:2])\n",
    "\n"
   ]
  },
  {
   "cell_type": "code",
   "execution_count": 17,
   "metadata": {},
   "outputs": [
    {
     "name": "stdout",
     "output_type": "stream",
     "text": "pizza\n"
    }
   ],
   "source": [
    "# 9.2 - 5\n",
    "\n",
    "print(food[-1])\n",
    "\n",
    "\n"
   ]
  },
  {
   "cell_type": "code",
   "execution_count": 30,
   "metadata": {},
   "outputs": [
    {
     "name": "stdout",
     "output_type": "stream",
     "text": "['eggs', 'fruit', 'orange juice']\n"
    }
   ],
   "source": [
    "# 9.2 - 6\n",
    "\n",
    "breakfast = \"eggs, fruit, orange juice\".split(', ')\n",
    "\n",
    "print(breakfast)\n",
    "\n"
   ]
  },
  {
   "cell_type": "code",
   "execution_count": 31,
   "metadata": {},
   "outputs": [
    {
     "name": "stdout",
     "output_type": "stream",
     "text": "True\n"
    }
   ],
   "source": [
    "# 9.2 - 7\n",
    "\n",
    "print(len(breakfast) == 3)"
   ]
  },
  {
   "cell_type": "code",
   "execution_count": 4,
   "metadata": {},
   "outputs": [
    {
     "name": "stdout",
     "output_type": "stream",
     "text": "((1, 2), (3, 4))\n"
    }
   ],
   "source": [
    "# 9.3 - 1\n",
    "\n",
    "tuple1 = ((1,2),(3,4))\n",
    "\n",
    "print(tuple1)\n"
   ]
  },
  {
   "cell_type": "code",
   "execution_count": 8,
   "metadata": {},
   "outputs": [
    {
     "name": "stdout",
     "output_type": "stream",
     "text": "Row 1 sum: 3\nRow 2 sum: 7\n"
    }
   ],
   "source": [
    "# 9.3 - 2\n",
    "\n",
    "for i in range(len(tuple1)):\n",
    "    print(f\"Row {i + 1} sum: {tuple1[i][0] + tuple1[i][1]}\")\n",
    "\n"
   ]
  },
  {
   "cell_type": "code",
   "execution_count": 1,
   "metadata": {},
   "outputs": [
    {
     "data": {
      "text/plain": "list"
     },
     "execution_count": 1,
     "metadata": {},
     "output_type": "execute_result"
    }
   ],
   "source": [
    "# 9.3 - 3\n",
    "\n",
    "numbers = [4, 3, 2, 1]\n",
    "\n",
    "type(numbers)"
   ]
  },
  {
   "cell_type": "code",
   "execution_count": 3,
   "metadata": {},
   "outputs": [
    {
     "name": "stdout",
     "output_type": "stream",
     "text": "[4, 3, 2, 1]\n"
    }
   ],
   "source": [
    "# 9.3 - 4\n",
    "\n",
    "numbersCopy = numbers[:]\n",
    "\n",
    "print(numbersCopy)\n"
   ]
  },
  {
   "cell_type": "code",
   "execution_count": 11,
   "metadata": {},
   "outputs": [
    {
     "name": "stdout",
     "output_type": "stream",
     "text": "[1, 2, 3, 4]\n"
    }
   ],
   "source": [
    "# 9.3 - 5\n",
    "\n",
    "numbers = [4, 3, 2, 1]\n",
    "numbers.sort()\n",
    "\n",
    "print(numbers)\n"
   ]
  },
  {
   "cell_type": "code",
   "execution_count": 88,
   "metadata": {},
   "outputs": [
    {
     "name": "stdout",
     "output_type": "stream",
     "text": "\n\n************************\nTotal students:   77285\nTotal tuition:  $ 271905\n\nStudent mean:     11040\nStudent median:   10566\n\nTuition mean:   $ 38843\nTuition median: $ 39849\n************************\n\n\n"
    }
   ],
   "source": [
    "# 9.4 - Challenege\n",
    "\n",
    "universities = [\n",
    "['California Institute of Technology', 2175, 37704],\n",
    "['Harvard', 19627, 39849],\n",
    "['Massachusetts Institute of Technology', 10566, 40732],\n",
    "['Princeton', 7802, 37000],\n",
    "['Rice', 5879, 35551],\n",
    "['Stanford', 19535, 40569],\n",
    "['Yale', 11701, 40500]\n",
    "]\n",
    "\n",
    "students = []\n",
    "tuition = []\n",
    "\n",
    "total_students = 0\n",
    "total_tuition = 0\n",
    "\n",
    "student_mean = 0\n",
    "tuition_mean = 0\n",
    "\n",
    "student_median = 0\n",
    "tuition_median = 0\n",
    "\n",
    "def enrollment_stats():\n",
    "    for i in range(len(universities)):\n",
    "        students.append(universities[i][1])\n",
    "        tuition.append(universities[i][2])\n",
    "\n",
    "    students.sort()\n",
    "    tuition.sort()\n",
    "\n",
    "    for i in range(len(universities)):\n",
    "        global total_students\n",
    "        global total_tuition\n",
    "        total_students += universities[i][1]\n",
    "        total_tuition += universities[i][2]\n",
    "\n",
    "enrollment_stats()\n",
    "\n",
    "def mean():\n",
    "    global student_mean\n",
    "    global tuition_mean\n",
    "    student_mean = total_students / len(universities)\n",
    "    tuition_mean = total_tuition / len(universities)\n",
    "\n",
    "mean()\n",
    "\n",
    "def median():\n",
    "    global student_median\n",
    "    global tuition_median\n",
    "    \n",
    "    index = (len(students) - 1) // 2\n",
    "\n",
    "    if len(students) % 2:\n",
    "        student_median = students[index]\n",
    "    else:\n",
    "        student_median = (students[index] + students[index + 1]) / 2.0\n",
    "\n",
    "    if len(tuition) % 2:\n",
    "        tuition_median = tuition[index]\n",
    "    else:\n",
    "        tuition_median = (tuition[index] + tuition[index + 1]) / 2.0\n",
    "\n",
    "median()\n",
    "\n",
    "\n",
    "print(\"\\n\")\n",
    "print(\"****\" * 6)\n",
    "print(f\"Total students:   {total_students}\")\n",
    "print(f\"Total tuition:  $ {total_tuition}\")\n",
    "print()\n",
    "print(f\"Student mean:     {int(student_mean)}\")\n",
    "print(f\"Student median:   {student_median}\")\n",
    "print()\n",
    "print(f\"Tuition mean:   $ {int(tuition_mean)}\")\n",
    "print(f\"Tuition median: $ {tuition_median}\")\n",
    "print(\"****\" * 6)\n",
    "print(\"\\n\")"
   ]
  },
  {
   "cell_type": "code",
   "execution_count": 1,
   "metadata": {},
   "outputs": [
    {
     "name": "stdout",
     "output_type": "stream",
     "text": "A flirtatious pheonix\n\nA flirtatious pheonix destroys the enticing chef\ncarnally, the pheonix inundates a fiend\nthe chef kills within a tempting chirmera\n"
    }
   ],
   "source": [
    "# 9.5 - Challenge\n",
    "\n",
    "from random import choice\n",
    "\n",
    "nouns = [\"chirmera\", \"fiend\", \"succubus\", \"judge\", \"chef\", \"pheonix\", \"extrovert\"]\n",
    "\n",
    "verbs = [\"absorbs\", \"kills\", \"destroys\", \"obliterates\", \"engulfs\", \"consumes\", \"submerges\", \"inundates\"]\n",
    "\n",
    "adjectives = [\"bushy\", \"bristly\", \"flirtatious\", \"inviting\", \"charming\", \"enticing\", \"tempting\", \"provacative\", \"tantalizing\", \"rousing\"]\n",
    "\n",
    "prepositions = [\"against\", \"beyond\", \"among\", \"underneath\", \"despite\", \"beneath\", \"between\", \"in spite of\", \"for\", \"in\", \"within\"]\n",
    "\n",
    "adverbs = [\"sensuously\", \"hedonisticly\", \"carnally\", \"generously\"]\n",
    "\n",
    "def make_poem():\n",
    "    \"\"\"Create randomly generated poem, returned as multiline string.\"\"\"\n",
    "    # Pull three nouns randomly\n",
    "    n1 = choice(nouns)\n",
    "    n2 = choice(nouns)\n",
    "    n3 = choice(nouns)\n",
    "    n4 = choice(nouns)\n",
    "    while n1 == n2:\n",
    "        n2 = choice(nouns)\n",
    "    while n1 == n3 or n2 == n3:\n",
    "        n3 = choice(nouns)\n",
    "    while n1 == n4 or n2 == n4 or n3 == n4:\n",
    "        n4 = choice(nouns)\n",
    "\n",
    "    # Pull three verbs randomly\n",
    "    v1 = choice(verbs)\n",
    "    v2 = choice(verbs)\n",
    "    v3 = choice(verbs)\n",
    "    while v1 == v2:\n",
    "        v2 = choice(verbs)\n",
    "    while v1 == v3 or v2 == v3:\n",
    "        v3 = choice(verbs)\n",
    "\n",
    "    # Pull three adjectives randomly\n",
    "    adj1 = choice(adjectives)\n",
    "    adj2 = choice(adjectives)\n",
    "    adj3 = choice(adjectives)\n",
    "    while adj1 == adj2:\n",
    "        adj2 = choice(adjectives)\n",
    "    while adj1 == adj3 or adj2 == adj3:\n",
    "        adj3 = choice(adjectives)\n",
    "\n",
    "    # Pull two propositions randomly\n",
    "    prep1 = choice(prepositions)\n",
    "    prep2 = choice(prepositions)\n",
    "    while prep1 == prep2:\n",
    "        prep2 = choice(prepositions)\n",
    "\n",
    "\n",
    "    # Pull one adverb randomly\n",
    "    adv1 = choice(adverbs)\n",
    "\n",
    "    if \"aeiou\".find(adj1[0]) != -1:  # first letter is a vowel\n",
    "        article = \"An\"\n",
    "    else:\n",
    "        article = \"A\"\n",
    "   \n",
    "    if \"aeiou\".find(adj3[0]) != -1:  # first letter is a vowel\n",
    "        article2 = \"an\"\n",
    "    else:\n",
    "        article2 = \"a\"\n",
    "    \n",
    "    if \"aeiou\".find(n4[0]) != -1:  # first letter is a vowel\n",
    "        article3 = \"an\"\n",
    "    else:\n",
    "        article3 = \"a\"\n",
    "\n",
    "    # add lines to poem\n",
    "    poem = f\"{article} {adj1} {n1}\\n\\n\"\n",
    "    poem = poem + f\"{article} {adj1} {n1} {v1} the {adj2} {n2}\\n\"\n",
    "    poem = poem + f\"{adv1}, the {n1} {v2} {article3} {n4}\\n\"\n",
    "    poem = poem + f\"the {n2} {v3} {prep2} {article2} {adj3} {n3}\"\n",
    "\n",
    "    return poem\n",
    "\n",
    "\n",
    "print(make_poem())\n"
   ]
  },
  {
   "cell_type": "code",
   "execution_count": 2,
   "metadata": {},
   "outputs": [
    {
     "data": {
      "text/plain": "dict"
     },
     "execution_count": 2,
     "metadata": {},
     "output_type": "execute_result"
    }
   ],
   "source": [
    "# 9.6 - 1\n",
    "\n",
    "birthdays = {}\n",
    "\n",
    "type(birthdays)\n"
   ]
  },
  {
   "cell_type": "code",
   "execution_count": 3,
   "metadata": {},
   "outputs": [
    {
     "name": "stdout",
     "output_type": "stream",
     "text": "{'Luke Skywalker': '5/24/19', 'Obi-Wan Kenobi': '3/11/57', 'Darth Vader': '4/1/41'}\n"
    }
   ],
   "source": [
    "# 9.6 - 2\n",
    "\n",
    "birthdays['Luke Skywalker'] = '5/24/19'\n",
    "birthdays['Obi-Wan Kenobi'] = '3/11/57'\n",
    "birthdays['Darth Vader'] = '4/1/41'\n",
    "\n",
    "print(birthdays)\n"
   ]
  },
  {
   "cell_type": "code",
   "execution_count": 10,
   "metadata": {},
   "outputs": [
    {
     "name": "stdout",
     "output_type": "stream",
     "text": "Birthday Unknown\n4/1/41\n"
    }
   ],
   "source": [
    "# 9.6 - 3\n",
    "\n",
    "\n",
    "if 'Yoda' in birthdays:\n",
    "    print(birthdays['Yoda'])\n",
    "else:\n",
    "    print('Birthday Unknown')\n",
    "\n",
    "if 'Darth Vader' in birthdays:\n",
    "    print(birthdays['Darth Vader'])\n",
    "else:\n",
    "    print('Birthday Unknow')\n"
   ]
  },
  {
   "cell_type": "code",
   "execution_count": 14,
   "metadata": {},
   "outputs": [
    {
     "name": "stdout",
     "output_type": "stream",
     "text": "Luke Skywalker 5/24/19\nObi-Wan Kenobi 3/11/57\nDarth Vader 4/1/41\n"
    }
   ],
   "source": [
    "# 9.6 - 4\n",
    "\n",
    "for name in birthdays:\n",
    "    print(name, birthdays[name])\n",
    "\n"
   ]
  },
  {
   "cell_type": "code",
   "execution_count": 16,
   "metadata": {},
   "outputs": [
    {
     "name": "stdout",
     "output_type": "stream",
     "text": "{'Luke Skywalker': '5/24/19', 'Obi-Wan Kenobi': '3/11/57'}\n"
    }
   ],
   "source": [
    "# 9.6 - 5\n",
    "\n",
    "del(birthdays['Darth Vader'])\n",
    "\n",
    "print(birthdays)\n"
   ]
  },
  {
   "cell_type": "code",
   "execution_count": 19,
   "metadata": {},
   "outputs": [
    {
     "name": "stdout",
     "output_type": "stream",
     "text": "{'Luke Skywalker': '5/25/19', 'Obi-Wan Kenobi': '3/11/57', 'Darth Vader': '4/1/41'}\n"
    }
   ],
   "source": [
    "# 9.6 - 6\n",
    "\n",
    "birthdays = dict([\n",
    "        (\"Luke Skywalker\", \"5/25/19\"),\n",
    "        (\"Obi-Wan Kenobi\", \"3/11/57\"),\t   \n",
    "        (\"Darth Vader\", \"4/1/41\"),\n",
    "    \t    ])\n",
    "\n",
    "print(birthdays)"
   ]
  },
  {
   "cell_type": "code",
   "execution_count": null,
   "metadata": {},
   "outputs": [],
   "source": [
    "from capitals import capitals_dict\n",
    "import random\n",
    "\n"
   ]
  },
  {
   "cell_type": "code",
   "execution_count": null,
   "metadata": {},
   "outputs": [],
   "source": []
  },
  {
   "cell_type": "code",
   "execution_count": null,
   "metadata": {},
   "outputs": [],
   "source": []
  },
  {
   "cell_type": "code",
   "execution_count": null,
   "metadata": {},
   "outputs": [],
   "source": []
  }
 ]
}