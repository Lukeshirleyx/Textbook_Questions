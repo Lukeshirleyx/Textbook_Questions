{
 "nbformat": 4,
 "nbformat_minor": 2,
 "metadata": {
  "language_info": {
   "name": "python",
   "codemirror_mode": {
    "name": "ipython",
    "version": 3
   },
   "version": "3.7.3-final"
  },
  "orig_nbformat": 2,
  "file_extension": ".py",
  "mimetype": "text/x-python",
  "name": "python",
  "npconvert_exporter": "python",
  "pygments_lexer": "ipython3",
  "version": 3,
  "kernelspec": {
   "name": "python37364bitbaseconda5994b4e167854476be8aec73de17ebc4",
   "display_name": "Python 3.7.3 64-bit ('base': conda)"
  }
 },
 "cells": [
  {
   "cell_type": "code",
   "execution_count": 6,
   "metadata": {},
   "outputs": [
    {
     "name": "stdout",
     "output_type": "stream",
     "text": "25000000 25000000\n"
    }
   ],
   "source": [
    "# 5.1 - 1\n",
    "\n",
    "num1 = 25000000\n",
    "num2 =25_000_000\n",
    "\n",
    "print(num1, num2)"
   ]
  },
  {
   "cell_type": "code",
   "execution_count": 7,
   "metadata": {},
   "outputs": [
    {
     "name": "stdout",
     "output_type": "stream",
     "text": "175000.0\n"
    }
   ],
   "source": [
    "# 5.1 - 2\n",
    "\n",
    "num = 175e3\n",
    "\n",
    "print(num)"
   ]
  },
  {
   "cell_type": "code",
   "execution_count": 14,
   "metadata": {},
   "outputs": [
    {
     "name": "stdout",
     "output_type": "stream",
     "text": "inf\n"
    }
   ],
   "source": [
    "# 5.1 - 3\n",
    "\n",
    "print(2e308)"
   ]
  },
  {
   "cell_type": "code",
   "execution_count": 21,
   "metadata": {},
   "outputs": [
    {
     "name": "stdout",
     "output_type": "stream",
     "text": "1.2 to the power of 3 = 1.7279999999999998\n"
    }
   ],
   "source": [
    "# 5.3 - Challenge \n",
    "\n",
    "prompt = \"Enter a base:\"\n",
    "input1 = input(prompt)\n",
    "\n",
    "prompt2 = \"Enter an exponent:\"\n",
    "input2 = input(prompt2)\n",
    "\n",
    "result = float(input1) ** float(input2)\n",
    "\n",
    "print(f\"{input1} to the power of {input2} = {result}\")"
   ]
  },
  {
   "cell_type": "code",
   "execution_count": 22,
   "metadata": {},
   "outputs": [
    {
     "name": "stdout",
     "output_type": "stream",
     "text": "0.30000000000000004\n"
    }
   ],
   "source": [
    "# 5.5 - 1"
   ]
  },
  {
   "cell_type": "code",
   "execution_count": null,
   "metadata": {},
   "outputs": [],
   "source": []
  }
 ]
}