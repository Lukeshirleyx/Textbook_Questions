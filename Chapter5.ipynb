{
 "nbformat": 4,
 "nbformat_minor": 2,
 "metadata": {
  "language_info": {
   "name": "python",
   "codemirror_mode": {
    "name": "ipython",
    "version": 3
   },
   "version": "3.7.3-final"
  },
  "orig_nbformat": 2,
  "file_extension": ".py",
  "mimetype": "text/x-python",
  "name": "python",
  "npconvert_exporter": "python",
  "pygments_lexer": "ipython3",
  "version": 3,
  "kernelspec": {
   "name": "python37364bitbaseconda5994b4e167854476be8aec73de17ebc4",
   "display_name": "Python 3.7.3 64-bit ('base': conda)"
  }
 },
 "cells": [
  {
   "cell_type": "code",
   "execution_count": 6,
   "metadata": {},
   "outputs": [
    {
     "name": "stdout",
     "output_type": "stream",
     "text": "25000000 25000000\n"
    }
   ],
   "source": [
    "# 5.1 - 1\n",
    "\n",
    "num1 = 25000000\n",
    "num2 =25_000_000\n",
    "\n",
    "print(num1, num2)"
   ]
  },
  {
   "cell_type": "code",
   "execution_count": 7,
   "metadata": {},
   "outputs": [
    {
     "name": "stdout",
     "output_type": "stream",
     "text": "175000.0\n"
    }
   ],
   "source": [
    "# 5.1 - 2\n",
    "\n",
    "num = 175e3\n",
    "\n",
    "print(num)"
   ]
  },
  {
   "cell_type": "code",
   "execution_count": 14,
   "metadata": {},
   "outputs": [
    {
     "name": "stdout",
     "output_type": "stream",
     "text": "inf\n"
    }
   ],
   "source": [
    "# 5.1 - 3\n",
    "\n",
    "print(2e308)"
   ]
  },
  {
   "cell_type": "code",
   "execution_count": 21,
   "metadata": {},
   "outputs": [
    {
     "name": "stdout",
     "output_type": "stream",
     "text": "1.2 to the power of 3 = 1.7279999999999998\n"
    }
   ],
   "source": [
    "# 5.3 - Challenge \n",
    "\n",
    "prompt = \"Enter a base:\"\n",
    "input1 = input(prompt)\n",
    "\n",
    "prompt2 = \"Enter an exponent:\"\n",
    "input2 = input(prompt2)\n",
    "\n",
    "result = float(input1) ** float(input2)\n",
    "\n",
    "print(f\"{input1} to the power of {input2} = {result}\")"
   ]
  },
  {
   "cell_type": "code",
   "execution_count": 4,
   "metadata": {},
   "outputs": [
    {
     "name": "stdout",
     "output_type": "stream",
     "text": "5.432 rounded to 2 decimal places is 5.43\n"
    }
   ],
   "source": [
    "# 5.5 - 1\n",
    "\n",
    "num = input(\"Enter a number:\")\n",
    "\n",
    "numr = round(float(num), 2)\n",
    "\n",
    "print(f\"{num} rounded to 2 decimal places is {numr}\")\n",
    "\n"
   ]
  },
  {
   "cell_type": "code",
   "execution_count": 5,
   "metadata": {},
   "outputs": [
    {
     "name": "stdout",
     "output_type": "stream",
     "text": "The absolute value of -10 is 10.\n"
    }
   ],
   "source": [
    "# 5.5 - 2 \n",
    "\n",
    "num1 = input(\"Enter a negative number:\")\n",
    "\n",
    "num2 = abs(int(num1))\n",
    "\n",
    "print(f\"The absolute value of {num1} is {num2}.\")\n",
    ""
   ]
  },
  {
   "cell_type": "code",
   "execution_count": 4,
   "metadata": {},
   "outputs": [
    {
     "name": "stdout",
     "output_type": "stream",
     "text": "The difference between 1.5 and 1 is and integer? False!\n"
    }
   ],
   "source": [
    "# 5.5 - 3\n",
    "\n",
    "num1 = input(\"Enter a number:\")\n",
    "\n",
    "num2 = input(\"Enter another number:\")\n",
    "\n",
    "num3 = float(num1) - float(num2)\n",
    "\n",
    "print(f\"The difference between {num1} and {num2} is and integer? {num3.is_integer()}!\")\n",
    "\n"
   ]
  },
  {
   "cell_type": "code",
   "execution_count": 8,
   "metadata": {},
   "outputs": [
    {
     "name": "stdout",
     "output_type": "stream",
     "text": "1.147\n"
    }
   ],
   "source": [
    "# 5.6 - 1 \n",
    "\n",
    "num = 3 ** .125\n",
    "\n",
    "print(f\"{num:.3f}\")\n"
   ]
  },
  {
   "cell_type": "code",
   "execution_count": 10,
   "metadata": {},
   "outputs": [
    {
     "name": "stdout",
     "output_type": "stream",
     "text": "150,000.00\n"
    }
   ],
   "source": [
    "# 5.6 - 2\n",
    "\n",
    "currency = 150000\n",
    "\n",
    "print(f\"{currency:,.2f}\")\n"
   ]
  },
  {
   "cell_type": "code",
   "execution_count": 12,
   "metadata": {},
   "outputs": [
    {
     "name": "stdout",
     "output_type": "stream",
     "text": "20%\n"
    }
   ],
   "source": [
    "# 5.6 - 3\n",
    "\n",
    "result = 2 / 10\n",
    "\n",
    "print(f\"{result:.0%}\")\n"
   ]
  }
 ]
}