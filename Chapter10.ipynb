{
 "nbformat": 4,
 "nbformat_minor": 2,
 "metadata": {
  "language_info": {
   "name": "python",
   "codemirror_mode": {
    "name": "ipython",
    "version": 3
   },
   "version": "3.7.6-final"
  },
  "orig_nbformat": 2,
  "file_extension": ".py",
  "mimetype": "text/x-python",
  "name": "python",
  "npconvert_exporter": "python",
  "pygments_lexer": "ipython3",
  "version": 3,
  "kernelspec": {
   "name": "python37664bitbasecondaf70dc1191ba9448ea01a1fe3a7a2fec2",
   "display_name": "Python 3.7.6 64-bit ('base': conda)"
  }
 },
 "cells": [
  {
   "cell_type": "code",
   "execution_count": 3,
   "metadata": {},
   "outputs": [],
   "source": [
    "# 10.2 - 1\n",
    "\n",
    "class Dog:\n",
    "    species = \"Canis familiaris\"\n",
    "\n",
    "    def __init__(self, name, age, coat_color):\n",
    "        self.name = name\n",
    "        self.age = age\n",
    "        self.coat_color = coat_color"
   ]
  },
  {
   "cell_type": "code",
   "execution_count": 4,
   "metadata": {},
   "outputs": [
    {
     "name": "stdout",
     "output_type": "stream",
     "text": "Philo's coat is brown.\n"
    }
   ],
   "source": [
    "# 10.2 - 1\n",
    "\n",
    "philo = Dog(\"Philo\", 5, \"brown\")\n",
    "print(f\"{philo.name}'s coat is {philo.coat_color}.\")"
   ]
  },
  {
   "cell_type": "code",
   "execution_count": 8,
   "metadata": {},
   "outputs": [
    {
     "name": "stdout",
     "output_type": "stream",
     "text": "The Blue car has 20,000 miles.\nThe Red car has 30,000 miles.\n"
    }
   ],
   "source": [
    "# 10.2 - 2\n",
    "\n",
    "class Car:\n",
    "\n",
    "    def __init__(self, color, mileage):\n",
    "        self.color = color\n",
    "        self.mileage = mileage\n",
    "\n",
    "blue_car = Car(\"Blue car\", 20_000)\n",
    "red_car = Car(\"Red car\", 30_000)\n",
    "\n",
    "print(f\"The {blue_car.color} has {blue_car.mileage:,.0f} miles.\")\n",
    "print(f\"The {red_car.color} has {red_car.mileage:,.0f} miles.\")\n",
    "\n"
   ]
  },
  {
   "cell_type": "code",
   "execution_count": 10,
   "metadata": {},
   "outputs": [
    {
     "name": "stdout",
     "output_type": "stream",
     "text": "100\n"
    }
   ],
   "source": [
    "# 10.2 - 3\n",
    "\n",
    "class Car:\n",
    "    def __init__(self, color, mileage):\n",
    "        self.color = color\n",
    "        self.mileage = mileage\n",
    "\n",
    "    def drive(self, miles):\n",
    "        self.mileage = self.mileage + miles\n",
    "\n",
    "\n",
    "blue_car = Car(\"blue\", 0)\n",
    "blue_car.drive(100)\n",
    "print(blue_car.mileage)\n",
    "\n",
    "\n"
   ]
  },
  {
   "cell_type": "code",
   "execution_count": 3,
   "metadata": {},
   "outputs": [
    {
     "data": {
      "text/plain": "'Miles says Bark'"
     },
     "execution_count": 3,
     "metadata": {},
     "output_type": "execute_result"
    }
   ],
   "source": [
    "# 10.3 - 1\n",
    "\n",
    "class Dog:\n",
    "    species = \"Canis familiaris\"\n",
    "\n",
    "    def __init__(self, name, age):\n",
    "        self.name = name\n",
    "        self.age = age\n",
    "\n",
    "    def __str__(self):\n",
    "        return f\"{self.name} is {self.age} years old\"\n",
    "    \n",
    "    def speak(self, sound):\n",
    "        return f\"{self.name} says {sound}\"\n",
    "\n",
    "class GoldenRetriever(Dog):\n",
    "    def speak(self, sound = \"Bark\"):\n",
    "        return super().speak(sound)\n",
    "\n",
    "\n",
    "miles = GoldenRetriever(\"Miles\", 4)\n",
    "miles.speak()"
   ]
  },
  {
   "cell_type": "code",
   "execution_count": 16,
   "metadata": {},
   "outputs": [
    {
     "name": "stdout",
     "output_type": "stream",
     "text": "16\n"
    }
   ],
   "source": [
    "# 10.3 - 2\n",
    "\n",
    "class Rectangle:\n",
    "    def __init__(self, length, width):\n",
    "        self.length = length\n",
    "        self.width = width\n",
    "\n",
    "    def area(self):\n",
    "        return self.length * self.width\n",
    "\n",
    "class Square(Rectangle):\n",
    "    def __init__(self, side_length):\n",
    "        return super().__init__(side_length, side_length)\n",
    "\n",
    "square = Square(4)\n",
    "\n",
    "print(square.area())\n"
   ]
  },
  {
   "cell_type": "code",
   "execution_count": 22,
   "metadata": {},
   "outputs": [
    {
     "name": "stdout",
     "output_type": "stream",
     "text": "Elephants are Big\nElephants say arrrr\nDogs say Bark\nDogs are Medium\nCats are Small\nCats say Meow\n"
    }
   ],
   "source": [
    "# 10.4 - Challenge\n",
    "\n",
    "class Animal:\n",
    "    def __init__(self, name, size):\n",
    "        self.name = name\n",
    "        self.size = size\n",
    "\n",
    "    def __str__(self):\n",
    "        return f\"{self.name}s are {self.size}\"\n",
    "    \n",
    "    def speak(self, sound):\n",
    "        return f\"{self.name}s say {sound}\"\n",
    "\n",
    "\n",
    "class Elephant(Animal):\n",
    "    def speak(self, sound = \"arrrr\"):\n",
    "        return super().speak(sound)\n",
    "\n",
    "elephant = Elephant(\"Elephant\", \"Big\")\n",
    "\n",
    "class Cat(Animal):\n",
    "    def speak(self, sound = \"Meow\"):\n",
    "        return super().speak(sound)\n",
    "\n",
    "cat = Cat(\"Cat\", \"Small\")\n",
    "\n",
    "class Dog(Animal):\n",
    "    def speak(self, sound = \"Bark\"):\n",
    "        return super().speak(sound)\n",
    "\n",
    "dog = Dog(\"Dog\", \"Medium\")\n",
    "\n",
    "print(elephant)\n",
    "print(elephant.speak())\n",
    "\n",
    "print(dog.speak())\n",
    "print(dog)\n",
    "\n",
    "print(cat)\n",
    "print(cat.speak())"
   ]
  },
  {
   "cell_type": "code",
   "execution_count": null,
   "metadata": {},
   "outputs": [],
   "source": []
  },
  {
   "cell_type": "code",
   "execution_count": null,
   "metadata": {},
   "outputs": [],
   "source": []
  },
  {
   "cell_type": "code",
   "execution_count": null,
   "metadata": {},
   "outputs": [],
   "source": []
  },
  {
   "cell_type": "code",
   "execution_count": null,
   "metadata": {},
   "outputs": [],
   "source": []
  },
  {
   "cell_type": "code",
   "execution_count": null,
   "metadata": {},
   "outputs": [],
   "source": []
  },
  {
   "cell_type": "code",
   "execution_count": null,
   "metadata": {},
   "outputs": [],
   "source": []
  },
  {
   "cell_type": "code",
   "execution_count": null,
   "metadata": {},
   "outputs": [],
   "source": []
  },
  {
   "cell_type": "code",
   "execution_count": null,
   "metadata": {},
   "outputs": [],
   "source": []
  }
 ]
}