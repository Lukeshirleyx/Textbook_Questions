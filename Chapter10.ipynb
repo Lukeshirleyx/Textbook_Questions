{
 "nbformat": 4,
 "nbformat_minor": 2,
 "metadata": {
  "language_info": {
   "name": "python",
   "codemirror_mode": {
    "name": "ipython",
    "version": 3
   },
   "version": "3.7.4-final"
  },
  "orig_nbformat": 2,
  "file_extension": ".py",
  "mimetype": "text/x-python",
  "name": "python",
  "npconvert_exporter": "python",
  "pygments_lexer": "ipython3",
  "version": 3,
  "kernelspec": {
   "name": "python37464bitbaseconda25ecb5d387634ce3af00d8d910e61201",
   "display_name": "Python 3.7.4 64-bit ('base': conda)"
  }
 },
 "cells": [
  {
   "cell_type": "code",
   "execution_count": 3,
   "metadata": {},
   "outputs": [],
   "source": [
    "# 10.2 - 1\n",
    "\n",
    "class Dog:\n",
    "    species = \"Canis familiaris\"\n",
    "\n",
    "    def __init__(self, name, age, coat_color):\n",
    "        self.name = name\n",
    "        self.age = age\n",
    "        self.coat_color = coat_color"
   ]
  },
  {
   "cell_type": "code",
   "execution_count": 4,
   "metadata": {},
   "outputs": [
    {
     "name": "stdout",
     "output_type": "stream",
     "text": "Philo's coat is brown.\n"
    }
   ],
   "source": [
    "# 10.2 - 1\n",
    "\n",
    "philo = Dog(\"Philo\", 5, \"brown\")\n",
    "print(f\"{philo.name}'s coat is {philo.coat_color}.\")"
   ]
  },
  {
   "cell_type": "code",
   "execution_count": 8,
   "metadata": {},
   "outputs": [
    {
     "name": "stdout",
     "output_type": "stream",
     "text": "The Blue car has 20,000 miles.\nThe Red car has 30,000 miles.\n"
    }
   ],
   "source": [
    "# 10.2 - 2\n",
    "\n",
    "class Car:\n",
    "\n",
    "    def __init__(self, color, mileage):\n",
    "        self.color = color\n",
    "        self.mileage = mileage\n",
    "\n",
    "blue_car = Car(\"Blue car\", 20_000)\n",
    "red_car = Car(\"Red car\", 30_000)\n",
    "\n",
    "print(f\"The {blue_car.color} has {blue_car.mileage:,.0f} miles.\")\n",
    "print(f\"The {red_car.color} has {red_car.mileage:,.0f} miles.\")\n",
    "\n"
   ]
  },
  {
   "cell_type": "code",
   "execution_count": 10,
   "metadata": {},
   "outputs": [
    {
     "name": "stdout",
     "output_type": "stream",
     "text": "100\n"
    }
   ],
   "source": [
    "# 10.2 - 3\n",
    "\n",
    "class Car:\n",
    "    def __init__(self, color, mileage):\n",
    "        self.color = color\n",
    "        self.mileage = mileage\n",
    "\n",
    "    def drive(self, miles):\n",
    "        self.mileage = self.mileage + miles\n",
    "\n",
    "\n",
    "blue_car = Car(\"blue\", 0)\n",
    "blue_car.drive(100)\n",
    "print(blue_car.mileage)\n",
    "\n",
    "\n"
   ]
  },
  {
   "cell_type": "code",
   "execution_count": null,
   "metadata": {},
   "outputs": [],
   "source": []
  }
 ]
}